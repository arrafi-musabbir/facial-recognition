{
  "nbformat": 4,
  "nbformat_minor": 0,
  "metadata": {
    "colab": {
      "name": "Facial recognition with DNN",
      "provenance": [],
      "collapsed_sections": []
    },
    "kernelspec": {
      "name": "python3",
      "display_name": "Python 3"
    },
    "language_info": {
      "name": "python"
    },
    "gpuClass": "standard",
    "accelerator": "GPU"
  },
  "cells": [
    {
      "cell_type": "markdown",
      "source": [
        "## Face recognition"
      ],
      "metadata": {
        "id": "MzRVaGDoql-n"
      }
    },
    {
      "cell_type": "code",
      "source": [
        "import time\n",
        "st = time.time()"
      ],
      "metadata": {
        "id": "rFL2MYJ5veA9"
      },
      "execution_count": 1,
      "outputs": []
    },
    {
      "cell_type": "markdown",
      "source": [
        "### Cloning repository"
      ],
      "metadata": {
        "id": "swedPl_Kpn3Y"
      }
    },
    {
      "cell_type": "code",
      "source": [
        "!git clone https://github.com/arrafi-musabbir/facial-recognition.git\n",
        "!sudo rm -rf /content/sample_data\n",
        "!unzip -q /content/facial-recognition/images.zip "
      ],
      "metadata": {
        "colab": {
          "base_uri": "https://localhost:8080/"
        },
        "id": "OCiPxdNqtqAT",
        "outputId": "682fb950-d5c0-4699-f153-62f686e45db7"
      },
      "execution_count": 2,
      "outputs": [
        {
          "output_type": "stream",
          "name": "stdout",
          "text": [
            "Cloning into 'facial-recognition'...\n",
            "remote: Enumerating objects: 33, done.\u001b[K\n",
            "remote: Counting objects: 100% (33/33), done.\u001b[K\n",
            "remote: Compressing objects: 100% (30/30), done.\u001b[K\n",
            "remote: Total 33 (delta 7), reused 19 (delta 3), pack-reused 0\u001b[K\n",
            "Unpacking objects: 100% (33/33), done.\n"
          ]
        }
      ]
    },
    {
      "cell_type": "markdown",
      "source": [
        "### Installing necessary libraries"
      ],
      "metadata": {
        "id": "AmgtNfbxpsHX"
      }
    },
    {
      "cell_type": "code",
      "execution_count": 3,
      "metadata": {
        "colab": {
          "base_uri": "https://localhost:8080/"
        },
        "id": "FYC9Rlswbq1y",
        "outputId": "6b4cedd7-1e87-40c0-b4b5-453d672254c8"
      },
      "outputs": [
        {
          "output_type": "stream",
          "name": "stdout",
          "text": [
            "Looking in indexes: https://pypi.org/simple, https://us-python.pkg.dev/colab-wheels/public/simple/\n",
            "Requirement already satisfied: numpy in /usr/local/lib/python3.7/dist-packages (1.21.6)\n",
            "Requirement already satisfied: scipy in /usr/local/lib/python3.7/dist-packages (1.4.1)\n",
            "Requirement already satisfied: dlib in /usr/local/lib/python3.7/dist-packages (19.18.0+zzzcolab20220513001918)\n",
            "Requirement already satisfied: firebase_admin in /usr/local/lib/python3.7/dist-packages (4.4.0)\n",
            "Requirement already satisfied: google-cloud-storage>=1.18.0 in /usr/local/lib/python3.7/dist-packages (from firebase_admin) (1.18.1)\n",
            "Requirement already satisfied: google-cloud-firestore>=1.4.0 in /usr/local/lib/python3.7/dist-packages (from firebase_admin) (1.7.0)\n",
            "Requirement already satisfied: google-api-core[grpc]<2.0.0dev,>=1.14.0 in /usr/local/lib/python3.7/dist-packages (from firebase_admin) (1.31.6)\n",
            "Requirement already satisfied: cachecontrol>=0.12.6 in /usr/local/lib/python3.7/dist-packages (from firebase_admin) (0.12.11)\n",
            "Requirement already satisfied: google-api-python-client>=1.7.8 in /usr/local/lib/python3.7/dist-packages (from firebase_admin) (1.12.11)\n",
            "Requirement already satisfied: requests in /usr/local/lib/python3.7/dist-packages (from cachecontrol>=0.12.6->firebase_admin) (2.23.0)\n",
            "Requirement already satisfied: msgpack>=0.5.2 in /usr/local/lib/python3.7/dist-packages (from cachecontrol>=0.12.6->firebase_admin) (1.0.4)\n",
            "Requirement already satisfied: setuptools>=40.3.0 in /usr/local/lib/python3.7/dist-packages (from google-api-core[grpc]<2.0.0dev,>=1.14.0->firebase_admin) (57.4.0)\n",
            "Requirement already satisfied: packaging>=14.3 in /usr/local/lib/python3.7/dist-packages (from google-api-core[grpc]<2.0.0dev,>=1.14.0->firebase_admin) (21.3)\n",
            "Requirement already satisfied: google-auth<2.0dev,>=1.25.0 in /usr/local/lib/python3.7/dist-packages (from google-api-core[grpc]<2.0.0dev,>=1.14.0->firebase_admin) (1.35.0)\n",
            "Requirement already satisfied: pytz in /usr/local/lib/python3.7/dist-packages (from google-api-core[grpc]<2.0.0dev,>=1.14.0->firebase_admin) (2022.1)\n",
            "Requirement already satisfied: protobuf<4.0.0dev,>=3.12.0 in /usr/local/lib/python3.7/dist-packages (from google-api-core[grpc]<2.0.0dev,>=1.14.0->firebase_admin) (3.17.3)\n",
            "Requirement already satisfied: six>=1.13.0 in /usr/local/lib/python3.7/dist-packages (from google-api-core[grpc]<2.0.0dev,>=1.14.0->firebase_admin) (1.15.0)\n",
            "Requirement already satisfied: googleapis-common-protos<2.0dev,>=1.6.0 in /usr/local/lib/python3.7/dist-packages (from google-api-core[grpc]<2.0.0dev,>=1.14.0->firebase_admin) (1.56.2)\n",
            "Requirement already satisfied: grpcio<2.0dev,>=1.29.0 in /usr/local/lib/python3.7/dist-packages (from google-api-core[grpc]<2.0.0dev,>=1.14.0->firebase_admin) (1.46.3)\n",
            "Requirement already satisfied: httplib2<1dev,>=0.15.0 in /usr/local/lib/python3.7/dist-packages (from google-api-python-client>=1.7.8->firebase_admin) (0.17.4)\n",
            "Requirement already satisfied: google-auth-httplib2>=0.0.3 in /usr/local/lib/python3.7/dist-packages (from google-api-python-client>=1.7.8->firebase_admin) (0.0.4)\n",
            "Requirement already satisfied: uritemplate<4dev,>=3.0.0 in /usr/local/lib/python3.7/dist-packages (from google-api-python-client>=1.7.8->firebase_admin) (3.0.1)\n",
            "Requirement already satisfied: cachetools<5.0,>=2.0.0 in /usr/local/lib/python3.7/dist-packages (from google-auth<2.0dev,>=1.25.0->google-api-core[grpc]<2.0.0dev,>=1.14.0->firebase_admin) (4.2.4)\n",
            "Requirement already satisfied: pyasn1-modules>=0.2.1 in /usr/local/lib/python3.7/dist-packages (from google-auth<2.0dev,>=1.25.0->google-api-core[grpc]<2.0.0dev,>=1.14.0->firebase_admin) (0.2.8)\n",
            "Requirement already satisfied: rsa<5,>=3.1.4 in /usr/local/lib/python3.7/dist-packages (from google-auth<2.0dev,>=1.25.0->google-api-core[grpc]<2.0.0dev,>=1.14.0->firebase_admin) (4.8)\n",
            "Requirement already satisfied: google-cloud-core<2.0dev,>=1.0.3 in /usr/local/lib/python3.7/dist-packages (from google-cloud-firestore>=1.4.0->firebase_admin) (1.0.3)\n",
            "Requirement already satisfied: google-resumable-media<0.5.0dev,>=0.3.1 in /usr/local/lib/python3.7/dist-packages (from google-cloud-storage>=1.18.0->firebase_admin) (0.4.1)\n",
            "Requirement already satisfied: pyparsing!=3.0.5,>=2.0.2 in /usr/local/lib/python3.7/dist-packages (from packaging>=14.3->google-api-core[grpc]<2.0.0dev,>=1.14.0->firebase_admin) (3.0.9)\n",
            "Requirement already satisfied: pyasn1<0.5.0,>=0.4.6 in /usr/local/lib/python3.7/dist-packages (from pyasn1-modules>=0.2.1->google-auth<2.0dev,>=1.25.0->google-api-core[grpc]<2.0.0dev,>=1.14.0->firebase_admin) (0.4.8)\n",
            "Requirement already satisfied: certifi>=2017.4.17 in /usr/local/lib/python3.7/dist-packages (from requests->cachecontrol>=0.12.6->firebase_admin) (2022.6.15)\n",
            "Requirement already satisfied: idna<3,>=2.5 in /usr/local/lib/python3.7/dist-packages (from requests->cachecontrol>=0.12.6->firebase_admin) (2.10)\n",
            "Requirement already satisfied: chardet<4,>=3.0.2 in /usr/local/lib/python3.7/dist-packages (from requests->cachecontrol>=0.12.6->firebase_admin) (3.0.4)\n",
            "Requirement already satisfied: urllib3!=1.25.0,!=1.25.1,<1.26,>=1.21.1 in /usr/local/lib/python3.7/dist-packages (from requests->cachecontrol>=0.12.6->firebase_admin) (1.24.3)\n"
          ]
        }
      ],
      "source": [
        "!pip install numpy scipy dlib firebase_admin"
      ]
    },
    {
      "cell_type": "markdown",
      "source": [
        "### Downloading pretained dlib libraries"
      ],
      "metadata": {
        "id": "wnJ1zQq5pwak"
      }
    },
    {
      "cell_type": "code",
      "source": [
        "!wget http://dlib.net/files/dlib_face_recognition_resnet_model_v1.dat.bz2\n",
        "!wget http://dlib.net/files/shape_predictor_68_face_landmarks.dat.bz2"
      ],
      "metadata": {
        "colab": {
          "base_uri": "https://localhost:8080/"
        },
        "id": "Kr7gIT9koSTB",
        "outputId": "9298049a-4457-4481-fafc-069925d3c0fa"
      },
      "execution_count": 4,
      "outputs": [
        {
          "output_type": "stream",
          "name": "stdout",
          "text": [
            "--2022-06-23 04:17:07--  http://dlib.net/files/dlib_face_recognition_resnet_model_v1.dat.bz2\n",
            "Resolving dlib.net (dlib.net)... 107.180.26.78\n",
            "Connecting to dlib.net (dlib.net)|107.180.26.78|:80... connected.\n",
            "HTTP request sent, awaiting response... 200 OK\n",
            "Length: 21428389 (20M)\n",
            "Saving to: ‘dlib_face_recognition_resnet_model_v1.dat.bz2’\n",
            "\n",
            "dlib_face_recogniti 100%[===================>]  20.44M  6.27MB/s    in 3.3s    \n",
            "\n",
            "2022-06-23 04:17:11 (6.27 MB/s) - ‘dlib_face_recognition_resnet_model_v1.dat.bz2’ saved [21428389/21428389]\n",
            "\n",
            "--2022-06-23 04:17:11--  http://dlib.net/files/shape_predictor_68_face_landmarks.dat.bz2\n",
            "Resolving dlib.net (dlib.net)... 107.180.26.78\n",
            "Connecting to dlib.net (dlib.net)|107.180.26.78|:80... connected.\n",
            "HTTP request sent, awaiting response... 200 OK\n",
            "Length: 64040097 (61M)\n",
            "Saving to: ‘shape_predictor_68_face_landmarks.dat.bz2’\n",
            "\n",
            "shape_predictor_68_ 100%[===================>]  61.07M  1.04MB/s    in 67s     \n",
            "\n",
            "2022-06-23 04:18:19 (927 KB/s) - ‘shape_predictor_68_face_landmarks.dat.bz2’ saved [64040097/64040097]\n",
            "\n"
          ]
        }
      ]
    },
    {
      "cell_type": "code",
      "source": [
        "!bzip2 -d /content/dlib_face_recognition_resnet_model_v1.dat.bz2\n",
        "!bzip2 -d /content/shape_predictor_68_face_landmarks.dat.bz2"
      ],
      "metadata": {
        "id": "LlFiCCFtoh6r"
      },
      "execution_count": 5,
      "outputs": []
    },
    {
      "cell_type": "markdown",
      "source": [
        "### Utility funtions"
      ],
      "metadata": {
        "id": "YRgdK5aRp1d1"
      }
    },
    {
      "cell_type": "code",
      "source": [
        "import dlib\n",
        "import scipy.misc\n",
        "import numpy as np\n",
        "import os\n",
        "# Get Face Detector from dlib\n",
        "# This allows us to detect faces in images\n",
        "face_detector = dlib.get_frontal_face_detector()\n",
        "# Get Pose Predictor from dlib\n",
        "# This allows us to detect landmark points in faces and understand the pose/angle of the face\n",
        "shape_predictor = dlib.shape_predictor('/content/shape_predictor_68_face_landmarks.dat')\n",
        "# Get the face recognition model\n",
        "# This is what gives us the face encodings (numbers that identify the face of a particular person)\n",
        "face_recognition_model = dlib.face_recognition_model_v1('/content/dlib_face_recognition_resnet_model_v1.dat')\n",
        "# This is the tolerance for face comparisons\n",
        "# The lower the number - the stricter the comparison\n",
        "# To avoid false matches, use lower value\n",
        "# To avoid false negatives (i.e. faces of the same person doesn't match), use higher value\n",
        "# 0.5-0.6 works well\n",
        "TOLERANCE = 0.4"
      ],
      "metadata": {
        "id": "Rc7Q28o0RDMs"
      },
      "execution_count": 6,
      "outputs": []
    },
    {
      "cell_type": "code",
      "source": [
        "# This function will take an image and return its face encodings using the neural network\n",
        "import imageio\n",
        "import cv2\n",
        "def get_face_encodings(path_to_image):\n",
        "    # Load image using scipy\n",
        "    # image = imageio.imread(path_to_image)\n",
        "    image = cv2.imread(path_to_image)\n",
        "    # Detect faces using the face detector\n",
        "    detected_faces = face_detector(image, 1)\n",
        "    # Get pose/landmarks of those faces\n",
        "    # Will be used as an input to the function that computes face encodings\n",
        "    # This allows the neural network to be able to produce similar numbers for faces of the same people, regardless of camera angle and/or face positioning in the image\n",
        "    shapes_faces = [shape_predictor(image, face) for face in detected_faces]\n",
        "    # For every face detected, compute the face encodings\n",
        "    return [np.array(face_recognition_model.compute_face_descriptor(image, face_pose, 1)) for face_pose in shapes_faces]"
      ],
      "metadata": {
        "id": "nNhs0_deo6LR"
      },
      "execution_count": 7,
      "outputs": []
    },
    {
      "cell_type": "code",
      "source": [
        "# This function takes a list of known faces\n",
        "def compare_face_encodings(known_faces, face):\n",
        "    # Finds the difference between each known face and the given face (that we are comparing)\n",
        "    # Calculate norm for the differences with each known face\n",
        "    # Return an array with True/Face values based on whether or not a known face matched with the given face\n",
        "    # A match occurs when the (norm) difference between a known face and the given face is less than or equal to the TOLERANCE value\n",
        "    return (np.linalg.norm(known_faces - face, axis=1) <= TOLERANCE)"
      ],
      "metadata": {
        "id": "CqESRDbIp5lT"
      },
      "execution_count": 8,
      "outputs": []
    },
    {
      "cell_type": "code",
      "source": [
        "# This function returns the name of the person whose image matches with the given face (or 'Not Found')\n",
        "# known_faces is a list of face encodings\n",
        "# names is a list of the names of people (in the same order as the face encodings - to match the name with an encoding)\n",
        "# face is the face we are looking for\n",
        "def find_match(known_faces, names, face):\n",
        "    # Call compare_face_encodings to get a list of True/False values indicating whether or not there's a match\n",
        "    matches = compare_face_encodings(known_faces, face)\n",
        "    # Return the name of the first match\n",
        "    count = 0\n",
        "    for match in matches:\n",
        "        if match:\n",
        "            return names[count]\n",
        "        count += 1\n",
        "    # Return not found if no match found\n",
        "    return 'Not Found'"
      ],
      "metadata": {
        "id": "yjW0dp2Np7Os"
      },
      "execution_count": 9,
      "outputs": []
    },
    {
      "cell_type": "markdown",
      "source": [
        "### Training face-recognition model"
      ],
      "metadata": {
        "id": "B5EtZws5x213"
      }
    },
    {
      "cell_type": "code",
      "source": [
        "# Get path to all the known images\n",
        "# Filtering on .jpg extension - so this will only work with JPEG images ending with .jpg\n",
        "image_filenames = filter(lambda x: x.endswith('.jpg'), os.listdir('images/'))\n",
        "# Sort in alphabetical order\n",
        "image_filenames = sorted(image_filenames)\n",
        "# Get full paths to images\n",
        "paths_to_images = ['images/' + x for x in image_filenames]\n",
        "# List of face encodings we have\n",
        "face_encodings = []\n",
        "# Loop over images to get the encoding one by one\n",
        "for path_to_image in paths_to_images:\n",
        "    # Get face encodings from the image\n",
        "    face_encodings_in_image = get_face_encodings(path_to_image)\n",
        "    # Make sure there's exactly one face in the image\n",
        "    if len(face_encodings_in_image) != 1:\n",
        "        print(\"Please change image: \" + path_to_image + \" - it has \" + str(len(face_encodings_in_image)) + \" faces; it can only have one\")\n",
        "        exit()\n",
        "    # Append the face encoding found in that image to the list of face encodings we have\n",
        "    try:\n",
        "      face_encodings.append(get_face_encodings(path_to_image)[0])\n",
        "    except IndexError:\n",
        "      print(\"Couldn't find face in \", path_to_image)"
      ],
      "metadata": {
        "id": "GABE0apnp9XC"
      },
      "execution_count": 10,
      "outputs": []
    },
    {
      "cell_type": "markdown",
      "source": [
        "### Creating test directory"
      ],
      "metadata": {
        "id": "YBkYlJpRqeCk"
      }
    },
    {
      "cell_type": "code",
      "source": [
        "os.mkdir('test')"
      ],
      "metadata": {
        "id": "L3TjW9mVxp7i"
      },
      "execution_count": 11,
      "outputs": []
    },
    {
      "cell_type": "markdown",
      "source": [
        "### Clear test directory"
      ],
      "metadata": {
        "id": "EGMtFBzy4s07"
      }
    },
    {
      "cell_type": "code",
      "source": [
        "import shutil\n",
        "def clear_test():\n",
        "    dir = '/content/test'\n",
        "    for files in os.listdir(dir):\n",
        "        path = os.path.join(dir, files)\n",
        "        try:\n",
        "            shutil.rmtree(path)\n",
        "        except OSError:\n",
        "            os.remove(path)"
      ],
      "metadata": {
        "id": "BeF5ALyq4sTd"
      },
      "execution_count": 26,
      "outputs": []
    },
    {
      "cell_type": "markdown",
      "source": [
        "### face recognition\n"
      ],
      "metadata": {
        "id": "4k2b8fguz9qJ"
      }
    },
    {
      "cell_type": "code",
      "source": [
        "def face_recognition():\n",
        "    # Get path to all the test images\n",
        "    # Filtering on .jpg extension - so this will only work with JPEG images ending with .jpg\n",
        "    test_filenames = filter(lambda x: x.endswith('.jpg'), os.listdir('test/'))\n",
        "    # Get full paths to test images\n",
        "    paths_to_test_images = ['test/' + x for x in test_filenames]\n",
        "    # Get list of names of people by eliminating the .JPG extension from image filenames\n",
        "    names = [x[:-4] for x in image_filenames]\n",
        "    # Iterate over test images to find match one by one\n",
        "    if len(paths_to_test_images)==0:\n",
        "        print(\"No images found\")\n",
        "    for path_to_image in paths_to_test_images:\n",
        "        # Get face encodings from the test image\n",
        "        face_encodings_in_image = get_face_encodings(path_to_image)\n",
        "        # Make sure there's exactly one face in the image\n",
        "        if len(face_encodings_in_image) != 1:\n",
        "            print(\"Please change image: \" + path_to_image + \" - it has \" + str(len(face_encodings_in_image)) + \" faces; it can only have one\")\n",
        "            exit()\n",
        "        # Find match for the face encoding found in this test image\n",
        "        try:\n",
        "            match = find_match(face_encodings, names, face_encodings_in_image[0])\n",
        "            # Print the path of test image and the corresponding match\n",
        "            print(path_to_image, \" >>>> recognized >>>>\", match.partition(\"_\")[0])\n",
        "            face = match.partition(\"_\")[0]\n",
        "        except:\n",
        "            face = \"No face\"\n",
        "            print(\"No face detected\")\n",
        "    return face"
      ],
      "metadata": {
        "id": "GtGoXYlwwb0o"
      },
      "execution_count": 55,
      "outputs": []
    },
    {
      "cell_type": "markdown",
      "source": [
        "## Firebase"
      ],
      "metadata": {
        "id": "8GCbTczlAlZ-"
      }
    },
    {
      "cell_type": "markdown",
      "source": [
        "### Connect to database"
      ],
      "metadata": {
        "id": "g64S1jtmstw4"
      }
    },
    {
      "cell_type": "code",
      "source": [
        "import firebase_admin\n",
        "from firebase_admin import credentials\n",
        "# connecting to firebase with credentials\n",
        "cred = credentials.Certificate(\"/content/facial-recognition/digitalkotemanagementsystem-firebase-adminsdk-6yboy-00b2489f3b.json\")\n",
        "firebase_admin.initialize_app(cred,{'databaseURL':'https://digitalkotemanagementsystem-default-rtdb.firebaseio.com/'})\n",
        "print(\"Successfully established connection to database\")"
      ],
      "metadata": {
        "colab": {
          "base_uri": "https://localhost:8080/"
        },
        "id": "_-2cCWVxokcs",
        "outputId": "625dba0d-8382-4858-874d-774877318d76"
      },
      "execution_count": 13,
      "outputs": [
        {
          "output_type": "stream",
          "name": "stdout",
          "text": [
            "Successfully established connection to database\n"
          ]
        }
      ]
    },
    {
      "cell_type": "code",
      "source": [
        "from firebase_admin import db\n",
        "ref = db.reference(\"/temp_image/1/\")\n",
        "ref1 = db.reference(\"recognized_face\")"
      ],
      "metadata": {
        "id": "SzOh5E4tpCo9"
      },
      "execution_count": 14,
      "outputs": []
    },
    {
      "cell_type": "markdown",
      "source": [
        "### Fetch image from database"
      ],
      "metadata": {
        "id": "S7iYp3C3Abyu"
      }
    },
    {
      "cell_type": "code",
      "source": [
        "import base64\n",
        "def fetch_image():\n",
        "    img64 = ref.get()['img64'].encode()\n",
        "    image_64_decode = base64.b64decode(img64) \n",
        "    image_result = open('test/test.jpg', 'wb')\n",
        "    image_result.write(image_64_decode)"
      ],
      "metadata": {
        "id": "OSHnFpR1texu"
      },
      "execution_count": 15,
      "outputs": []
    },
    {
      "cell_type": "markdown",
      "source": [
        "### Recognize face and update database"
      ],
      "metadata": {
        "id": "AGFauOJKAfhq"
      }
    },
    {
      "cell_type": "code",
      "source": [
        "def update_database():\n",
        "    clear_test()\n",
        "    fetch_image()\n",
        "    try:\n",
        "      face = face_recognition()\n",
        "    except:\n",
        "      face = \"No face\"\n",
        "    new = len(ref1.get())\n",
        "    new = str(new)\n",
        "    box_ref = ref1.child('1')\n",
        "    box_ref = ref1.child('{new}'.format(new=new))\n",
        "    box_ref.update({\n",
        "        'name': '{face}'.format(face=face)\n",
        "    })\n",
        "    print('Face recognized: {face}'.format(face=face))\n",
        "    print('Database updated accordingly')"
      ],
      "metadata": {
        "id": "SqVBOOYb6o6_"
      },
      "execution_count": 29,
      "outputs": []
    },
    {
      "cell_type": "code",
      "source": [
        "print('The program is ready and executable')\n",
        "et = time.time()\n",
        "print(\"Took {:2f} minutes\".format((et-st)/60))"
      ],
      "metadata": {
        "colab": {
          "base_uri": "https://localhost:8080/"
        },
        "id": "OfFHbce0vj1s",
        "outputId": "ff66fd5e-a944-4878-97e3-14939b0e7e2b"
      },
      "execution_count": 30,
      "outputs": [
        {
          "output_type": "stream",
          "name": "stdout",
          "text": [
            "The program is ready and executable\n",
            "Took 32.199899 minutes\n"
          ]
        }
      ]
    },
    {
      "cell_type": "markdown",
      "source": [
        "### Run every block before this with run-before command from runtime"
      ],
      "metadata": {
        "id": "dto1DQlp7qyD"
      }
    },
    {
      "cell_type": "markdown",
      "source": [
        "## Run this block only-- without app"
      ],
      "metadata": {
        "id": "Tji9AuqizCYj"
      }
    },
    {
      "cell_type": "code",
      "source": [
        "try:\n",
        "  face_recognition()\n",
        "except IndexError:\n",
        "  print(\"Couldn't find face\")"
      ],
      "metadata": {
        "colab": {
          "base_uri": "https://localhost:8080/"
        },
        "id": "SICbN7KPzOjT",
        "outputId": "7de11766-62e3-4c80-aada-ce139774ee28"
      },
      "execution_count": 59,
      "outputs": [
        {
          "output_type": "stream",
          "name": "stdout",
          "text": [
            "test/Lt Abdullah_19.jpg  >>>> recognized >>>> Lt Abdullah\n",
            "test/test.jpg  >>>> recognized >>>> Lt Abdullah\n",
            "test/Lt Salman_27.jpg  >>>> recognized >>>> Lt Salman\n",
            "test/Capt Tanzil_292.jpg  >>>> recognized >>>> Capt Tanzil\n",
            "test/Lt Salman.jpg  >>>> recognized >>>> Lt Salman\n",
            "test/Fo Mehedi_24.jpg  >>>> recognized >>>> Fo Mehedi\n"
          ]
        }
      ]
    },
    {
      "cell_type": "markdown",
      "source": [
        "## Run this block only-- hooked with app"
      ],
      "metadata": {
        "id": "uokBQis9xLTT"
      }
    },
    {
      "cell_type": "code",
      "source": [
        "update_database()"
      ],
      "metadata": {
        "colab": {
          "base_uri": "https://localhost:8080/"
        },
        "id": "Fq_LAE1GtBPU",
        "outputId": "9b09dcd1-71cc-4919-fe80-9932ca174681"
      },
      "execution_count": 61,
      "outputs": [
        {
          "output_type": "stream",
          "name": "stdout",
          "text": [
            "test/test.jpg  >>>> recognized >>>> Lt Abdullah\n",
            "Face recognized: Lt Abdullah\n",
            "Database updated accordingly\n"
          ]
        }
      ]
    }
  ]
}